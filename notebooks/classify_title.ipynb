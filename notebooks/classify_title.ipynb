{
 "cells": [
  {
   "cell_type": "markdown",
   "id": "23cbfb50",
   "metadata": {},
   "source": [
    "### Classify the titles of the podcasts as relevant to be summarize or not.\n",
    "\n",
    "- 1. Labelize podcast dataset using guest and manual labelling.\n",
    "- 2. Augment podcast dataset using back translation.\n",
    "- 3. Fine-tune distil bert model classifier.\n",
    "- 4. Analyse performances and dump champion classifier."
   ]
  },
  {
   "cell_type": "code",
   "execution_count": 11,
   "id": "7adfba29-1fb8-40d7-a35b-01322509e65e",
   "metadata": {},
   "outputs": [
    {
     "name": "stdout",
     "output_type": "stream",
     "text": [
      "The autoreload extension is already loaded. To reload it, use:\n",
      "  %reload_ext autoreload\n"
     ]
    }
   ],
   "source": [
    "%load_ext autoreload\n",
    "%autoreload 2\n",
    "\n",
    "import requests\n",
    "import os\n",
    "import joblib\n",
    "import math\n",
    "from copy import deepcopy\n",
    "import multiprocessing as mp\n",
    "from functools import partial\n",
    "from html import unescape\n",
    "from unidecode import unidecode\n",
    "from typing import Sequence, Union, Tuple, Dict\n",
    "from tqdm import tqdm\n",
    "\n",
    "import numpy as np\n",
    "import pandas as pd\n",
    "pd.set_option('display.max_rows', 500)\n",
    "\n",
    "import torch\n",
    "from bs4 import BeautifulSoup\n",
    "import translators as ts\n",
    "from transformers import (\n",
    "    BertTokenizer, BertForSequenceClassification, DistilBertTokenizer,\n",
    "    DistilBertForSequenceClassification, Trainer, TrainingArguments, EarlyStoppingCallback\n",
    ")\n",
    "from transformers.tokenization_utils_base import (\n",
    "    BatchEncoding, PreTrainedTokenizerBase\n",
    ")\n",
    "from datasets import Dataset, load_metric\n",
    "from sklearn.model_selection import train_test_split\n",
    "from sklearn.metrics import classification_report\n",
    "\n",
    "from podconcise.scraping import (\n",
    "    parse_podcats\n",
    ")\n",
    "from podconcise.nlp_utils import (\n",
    "    hash_str, augment_with_backtranslation,\n",
    "    tokenize_title, compute_classification_metrics,\n",
    ")\n",
    "from podconcise.constant import (\n",
    "    DATA_SCIENCE_GUESTS, LABELS\n",
    ")\n",
    "from podconcise.plot_utils import plot_learning_curve"
   ]
  },
  {
   "cell_type": "code",
   "execution_count": 185,
   "id": "5da7405b",
   "metadata": {},
   "outputs": [
    {
     "name": "stdout",
     "output_type": "stream",
     "text": [
      "Collecting matplotlib\n",
      "  Using cached matplotlib-3.9.1-cp312-cp312-manylinux_2_17_x86_64.manylinux2014_x86_64.whl.metadata (11 kB)\n",
      "Collecting contourpy>=1.0.1 (from matplotlib)\n",
      "  Using cached contourpy-1.2.1-cp312-cp312-manylinux_2_17_x86_64.manylinux2014_x86_64.whl.metadata (5.8 kB)\n",
      "Collecting cycler>=0.10 (from matplotlib)\n",
      "  Using cached cycler-0.12.1-py3-none-any.whl.metadata (3.8 kB)\n",
      "Collecting fonttools>=4.22.0 (from matplotlib)\n",
      "  Using cached fonttools-4.53.1-cp312-cp312-manylinux_2_5_x86_64.manylinux1_x86_64.manylinux_2_17_x86_64.manylinux2014_x86_64.whl.metadata (162 kB)\n",
      "Collecting kiwisolver>=1.3.1 (from matplotlib)\n",
      "  Using cached kiwisolver-1.4.5-cp312-cp312-manylinux_2_17_x86_64.manylinux2014_x86_64.whl.metadata (6.4 kB)\n",
      "Requirement already satisfied: numpy>=1.23 in /home/pierre/anaconda3/envs/lexscraper/lib/python3.12/site-packages (from matplotlib) (1.26.4)\n",
      "Requirement already satisfied: packaging>=20.0 in /home/pierre/anaconda3/envs/lexscraper/lib/python3.12/site-packages (from matplotlib) (24.1)\n",
      "Collecting pillow>=8 (from matplotlib)\n",
      "  Using cached pillow-10.4.0-cp312-cp312-manylinux_2_28_x86_64.whl.metadata (9.2 kB)\n",
      "Collecting pyparsing>=2.3.1 (from matplotlib)\n",
      "  Using cached pyparsing-3.1.2-py3-none-any.whl.metadata (5.1 kB)\n",
      "Requirement already satisfied: python-dateutil>=2.7 in /home/pierre/anaconda3/envs/lexscraper/lib/python3.12/site-packages (from matplotlib) (2.9.0.post0)\n",
      "Requirement already satisfied: six>=1.5 in /home/pierre/anaconda3/envs/lexscraper/lib/python3.12/site-packages (from python-dateutil>=2.7->matplotlib) (1.16.0)\n",
      "Using cached matplotlib-3.9.1-cp312-cp312-manylinux_2_17_x86_64.manylinux2014_x86_64.whl (8.3 MB)\n",
      "Using cached contourpy-1.2.1-cp312-cp312-manylinux_2_17_x86_64.manylinux2014_x86_64.whl (309 kB)\n",
      "Using cached cycler-0.12.1-py3-none-any.whl (8.3 kB)\n",
      "Using cached fonttools-4.53.1-cp312-cp312-manylinux_2_5_x86_64.manylinux1_x86_64.manylinux_2_17_x86_64.manylinux2014_x86_64.whl (4.9 MB)\n",
      "Using cached kiwisolver-1.4.5-cp312-cp312-manylinux_2_17_x86_64.manylinux2014_x86_64.whl (1.5 MB)\n",
      "Using cached pillow-10.4.0-cp312-cp312-manylinux_2_28_x86_64.whl (4.5 MB)\n",
      "Using cached pyparsing-3.1.2-py3-none-any.whl (103 kB)\n",
      "Installing collected packages: pyparsing, pillow, kiwisolver, fonttools, cycler, contourpy, matplotlib\n",
      "Successfully installed contourpy-1.2.1 cycler-0.12.1 fonttools-4.53.1 kiwisolver-1.4.5 matplotlib-3.9.1 pillow-10.4.0 pyparsing-3.1.2\n"
     ]
    }
   ],
   "source": [
    "!pip install matplotlib"
   ]
  },
  {
   "cell_type": "code",
   "execution_count": 2,
   "id": "fd321c84-9f8b-4043-a786-c136785974ba",
   "metadata": {},
   "outputs": [],
   "source": [
    "url_podcasts = \"https://lexfridman.com/podcast\"\n",
    "\n",
    "PATH_DATA = r\"../data\"\n",
    "PATH_MODEL = r\"../model\"\n",
    "PATH_LOG = r\"../log\"\n",
    "PATH_TRAINING = r\"../training\"\n",
    "\n",
    "FILE_PODCAST = r\"podcast.csv\"\n",
    "FILE_PODCAST_AUGMENTED = r\"podcast_augmented.csv\"\n",
    "\n",
    "MODEL_DBERT_TOPIC_CLASSIFIER = r\"distil_bert_topic_to_summarize\"\n",
    "MODEL_DBERT_TOPIC_CLASSIFIER_AUGMENTED = r\"distil_bert_topic_to_summarize_augmented\"\n",
    "\n",
    "LABELS = ['to_pass', 'to_summarize']"
   ]
  },
  {
   "cell_type": "markdown",
   "id": "4cd34da0",
   "metadata": {},
   "source": [
    "loading checkpoints"
   ]
  },
  {
   "cell_type": "code",
   "execution_count": 3,
   "id": "f2349471",
   "metadata": {},
   "outputs": [
    {
     "name": "stdout",
     "output_type": "stream",
     "text": [
      "(436, 8)\n"
     ]
    },
    {
     "data": {
      "text/plain": [
       "(1560, 9)"
      ]
     },
     "execution_count": 3,
     "metadata": {},
     "output_type": "execute_result"
    }
   ],
   "source": [
    "file = os.path.join(PATH_DATA, FILE_PODCAST)\n",
    "df_podcast = pd.read_csv(file, sep=\";\")\n",
    "print(df_podcast.shape)\n",
    "\n",
    "file = os.path.join(PATH_DATA, FILE_PODCAST_AUGMENTED)\n",
    "df_pod_augmented = pd.read_csv(file, sep=\";\")\n",
    "df_pod_augmented.shape"
   ]
  },
  {
   "cell_type": "markdown",
   "id": "049ac44c",
   "metadata": {},
   "source": [
    "##### Retrieving of the podcasts."
   ]
  },
  {
   "cell_type": "code",
   "execution_count": 13,
   "id": "fbac75cf-d5a7-43a1-92b5-091ab18de698",
   "metadata": {},
   "outputs": [],
   "source": [
    "res = requests.get(url_podcasts)\n",
    "html_content = res.content\n",
    "soup_podcasts = BeautifulSoup(html_content, 'html.parser')\n",
    "    \n",
    "podcasts = parse_podcats(soup_podcasts)\n",
    "titles = [p.title for p in podcasts]"
   ]
  },
  {
   "cell_type": "markdown",
   "id": "9a832ed6",
   "metadata": {},
   "source": [
    "##### First attempt at classifying the podcasts based on their title using a pre-trained NOT fine-tuned model."
   ]
  },
  {
   "cell_type": "code",
   "execution_count": 8,
   "id": "8ed87427",
   "metadata": {},
   "outputs": [
    {
     "name": "stderr",
     "output_type": "stream",
     "text": [
      "Some weights of BertForSequenceClassification were not initialized from the model checkpoint at bert-base-uncased and are newly initialized: ['classifier.bias', 'classifier.weight']\n",
      "You should probably TRAIN this model on a down-stream task to be able to use it for predictions and inference.\n"
     ]
    }
   ],
   "source": [
    "model_name = \"bert-base-uncased\" \n",
    "# model_name = \"distilbert-base-uncased\" \n",
    "\n",
    "tokenizer = BertTokenizer.from_pretrained(model_name)\n",
    "model = BertForSequenceClassification.from_pretrained(model_name)"
   ]
  },
  {
   "cell_type": "code",
   "execution_count": 9,
   "id": "94ade93e",
   "metadata": {},
   "outputs": [
    {
     "name": "stdout",
     "output_type": "stream",
     "text": [
      "Survival, Hunting, Siberia, God, and Winning Alone Season 6\n",
      "related to AI\n",
      "Politics, Family, Real Estate, Fashion, Music, and Life\n",
      "related to AI\n",
      "Focus, Controversy, Politics, and Relationships\n",
      "related to AI\n",
      "Perplexity CEO on Future of AI, Search & the Internet\n",
      "related to AI\n",
      "Physics of Life, Time, Complexity, and Aliens\n",
      "related to AI\n",
      "Power, Controversy, Betrayal, Truth & Love in Film and Life\n",
      "related to AI\n",
      "Dangers of Superintelligent AI\n",
      "not related to AI\n",
      "Human Memory, Imagination, Deja Vu, and False Memories\n",
      "related to AI\n",
      "Jungle, Apex Predators, Aliens, Uncontacted Tribes, and God\n",
      "not related to AI\n",
      "General Relativity, Quantum Mechanics, Black Holes & Aliens\n",
      "related to AI\n"
     ]
    }
   ],
   "source": [
    "for title in titles[:10]:\n",
    "\n",
    "    inputs = tokenizer(\n",
    "        title,\n",
    "        return_tensors='pt',\n",
    "        padding=True,\n",
    "        truncation=True,\n",
    "        max_length=512\n",
    "    )\n",
    "    outputs = model(**inputs) \n",
    "    logits = outputs.logits\n",
    "    probabilities = torch.nn.functional.softmax(logits, dim=1)\n",
    "    predicted_class = torch.argmax(probabilities, dim=1).item()\n",
    "\n",
    "    label = LABELS[predicted_class]\n",
    "\n",
    "    print(f'{title}\\n{label}')"
   ]
  },
  {
   "cell_type": "markdown",
   "id": "814c3fe0",
   "metadata": {},
   "source": [
    "**Plan of action:**\n",
    "\n",
    "- Fine-tune distilled Bert.\n",
    "    - create a training set.\n",
    "        - Use guest to labellize past titles.\n",
    "        - Use traduction and synonms to do data augmentation.\n",
    "        - scrap some data.\n",
    "    - Do the fine tuning\n",
    "- Test it of a validation set.  "
   ]
  },
  {
   "cell_type": "markdown",
   "id": "cf032e27",
   "metadata": {},
   "source": [
    "#### Training dataset creation"
   ]
  },
  {
   "cell_type": "code",
   "execution_count": 10,
   "id": "9a038dbb",
   "metadata": {},
   "outputs": [],
   "source": [
    "df_podcast = pd.DataFrame(podcasts)\n",
    "\n",
    "\n",
    "cols_to_pp = [\"guest\", \"title\"]\n",
    "\n",
    "def preprocess_podcasts(df: pd.DataFrame, cols_to_pp: Sequence[str]) -> pd.DataFrame:\n",
    "\n",
    "\n",
    "for col in cols_to_pp:\n",
    "    df_podcast[col] = np.vectorize(lambda title: unidecode(title))(df_podcast[col])\n",
    "    df_podcast[col] = df_podcast[col].str.lower()\n",
    "\n",
    "hash_str_vec = np.vectorize(hash_str)\n",
    "df_podcast.insert(0, 'id', hash_str_vec(df_podcast.guest + df_podcast.title))\n",
    "\n",
    "assert df_podcast.id.nunique() == len(df_podcast), \"colision in the hashing to create unique id!\""
   ]
  },
  {
   "cell_type": "markdown",
   "id": "86de5a9b",
   "metadata": {},
   "source": [
    "The positive titles will be:\n",
    "- titles of podcast whose guest is a AI/ML/DS person I am interested in.\n",
    "\n",
    "or\n",
    "\n",
    "- titles with ML terms that I will validate by hand."
   ]
  },
  {
   "cell_type": "code",
   "execution_count": null,
   "id": "de92e506",
   "metadata": {},
   "outputs": [],
   "source": [
    "words_to_check = [\n",
    "    \"Neural Nets\",\n",
    "    \"neural networks\",\n",
    "    \"Deep Learning\",\n",
    "    \"Machine learning\",\n",
    "    \"Reinforcement Learning\",\n",
    "    \"Data science\",\n",
    "    \"AI\",\n",
    "    \"AGI\",\n",
    "    \"artificial intelligence\"\n",
    "]\n",
    "words_to_check_pp = [unidecode(word).lower() for word in words_to_check]"
   ]
  },
  {
   "cell_type": "markdown",
   "id": "9eeec3bf",
   "metadata": {},
   "source": [
    "Manual validation based on regex."
   ]
  },
  {
   "cell_type": "code",
   "execution_count": 12,
   "id": "20a21555",
   "metadata": {},
   "outputs": [],
   "source": [
    "def is_guest_relevant(guest_candidate: str, data_science_guests: Sequence[str]) -> bool:\n",
    "    \"\"\"\n",
    "    Check if any data science guest is contained in the given guest_candidate.\n",
    "    Necessary because some guest_candidate contained multiple guests.\n",
    "    \"\"\"\n",
    "    return any(relevant_guest in guest_candidate for relevant_guest in data_science_guests)\n",
    "\n",
    "is_guest_relevant_vec = np.vectorize(\n",
    "    is_guest_relevant,\n",
    "    excluded=['data_science_guests'],\n",
    "    signature='(),(n)->()'\n",
    ")\n",
    "\n",
    "data_science_guests_pp = [unidecode(guest).lower() for guest in DATA_SCIENCE_GUESTS]\n",
    "df_podcast[\"has_relevant_guest\"] = is_guest_relevant_vec(df_podcast.guest, data_science_guests_pp).astype(int)\n",
    "\n",
    "re_not_character_or_beginning = r'(?:[^a-z]|^)'\n",
    "re_not_character_or_end = r'(?:[^a-z]|$)'\n",
    "\n",
    "pattern = (\n",
    "    re_not_character_or_beginning +\n",
    "    (f'{re_not_character_or_end}|{re_not_character_or_beginning}').join(words_to_check_pp) + \n",
    "    re_not_character_or_end\n",
    ")\n",
    "df_podcast[\"has_ml_word\"] = df_podcast.title.str.contains(pattern, case=False, regex=True).astype(int)"
   ]
  },
  {
   "cell_type": "code",
   "execution_count": 13,
   "id": "5d726283",
   "metadata": {},
   "outputs": [
    {
     "name": "stdout",
     "output_type": "stream",
     "text": [
      "98195452: roman yampolskiy\n",
      "dangers of superintelligent ai\n",
      "\n",
      "86440844: guillaume verdon\n",
      "beff jezos, e/acc movement, physics, computation & agi\n",
      "\n",
      "68071720: elon musk\n",
      "war, ai, aliens, politics, physics, video games, and humanity\n",
      "\n",
      "65917750: george hotz\n",
      "tiny corp, twitter, ai safety, self-driving, gpt, agi & god\n",
      "\n",
      "60879511: marc andreessen\n",
      "future of the internet, technology, and ai\n",
      "\n",
      "99072863: mark zuckerberg\n",
      "future of ai at meta, facebook, instagram, and whatsapp\n",
      "\n",
      "41763735: chris lattner\n",
      "future of programming and ai\n",
      "\n",
      "68276965: manolis kellis\n",
      "evolution of human civilization and superintelligent ai\n",
      "\n",
      "62663336: eliezer yudkowsky\n",
      "dangers of ai and the end of human civilization\n",
      "\n"
     ]
    }
   ],
   "source": [
    "batch = 0\n",
    "increment = 9\n",
    "\n",
    "df_to_check = df_podcast.loc[\n",
    "    (df_podcast.has_relevant_guest == 0) & (df_podcast.has_ml_word == 1) \n",
    "]\n",
    "\n",
    "for _, (id, guest, title) in df_to_check.loc[:,[\"id\", \"guest\", \"title\"]].iloc[batch*increment: batch*increment + increment].iterrows():\n",
    "    print(f\"{id}: {guest}\\n{title}\\n\")"
   ]
  },
  {
   "cell_type": "code",
   "execution_count": 14,
   "id": "5415d1e7",
   "metadata": {},
   "outputs": [],
   "source": [
    "manual_positive_id = [\n",
    "    98195452,\n",
    "    41763735,\n",
    "    68276965,\n",
    "    59789751,\n",
    "    60449962,\n",
    "    93271390,\n",
    "    79695739,\n",
    "    31945141,\n",
    "    58779362,\n",
    "]\n",
    "\n",
    "df_podcast[\"manual_label\"] = df_podcast.id.isin(manual_positive_id).astype(int)\n",
    "\n",
    "df_podcast[\"label\"] = (\n",
    "    df_podcast.manual_label | df_podcast.has_relevant_guest\n",
    ").astype(int)\n",
    "\n",
    "save = False\n",
    "if save:\n",
    "    file = os.path.join(PATH_DATA, FILE_PODCAST)\n",
    "    df_podcast.to_csv(file, sep=\";\", index=False)"
   ]
  },
  {
   "cell_type": "code",
   "execution_count": 15,
   "id": "58bd74bd",
   "metadata": {},
   "outputs": [
    {
     "data": {
      "text/html": [
       "<div>\n",
       "<style scoped>\n",
       "    .dataframe tbody tr th:only-of-type {\n",
       "        vertical-align: middle;\n",
       "    }\n",
       "\n",
       "    .dataframe tbody tr th {\n",
       "        vertical-align: top;\n",
       "    }\n",
       "\n",
       "    .dataframe thead th {\n",
       "        text-align: right;\n",
       "    }\n",
       "</style>\n",
       "<table border=\"1\" class=\"dataframe\">\n",
       "  <thead>\n",
       "    <tr style=\"text-align: right;\">\n",
       "      <th></th>\n",
       "      <th>id</th>\n",
       "      <th>guest</th>\n",
       "      <th>title</th>\n",
       "      <th>url_transcript</th>\n",
       "      <th>has_relevant_guest</th>\n",
       "      <th>has_ml_word</th>\n",
       "      <th>manual_label</th>\n",
       "      <th>label</th>\n",
       "    </tr>\n",
       "  </thead>\n",
       "  <tbody>\n",
       "    <tr>\n",
       "      <th>392</th>\n",
       "      <td>70048196</td>\n",
       "      <td>david ferrucci</td>\n",
       "      <td>ibm watson, jeopardy &amp; deep conversations with ai</td>\n",
       "      <td>None</td>\n",
       "      <td>0</td>\n",
       "      <td>1</td>\n",
       "      <td>0</td>\n",
       "      <td>0</td>\n",
       "    </tr>\n",
       "    <tr>\n",
       "      <th>125</th>\n",
       "      <td>84886709</td>\n",
       "      <td>duncan trussell</td>\n",
       "      <td>comedy, sentient robots, suffering, love &amp; bur...</td>\n",
       "      <td>None</td>\n",
       "      <td>0</td>\n",
       "      <td>0</td>\n",
       "      <td>0</td>\n",
       "      <td>0</td>\n",
       "    </tr>\n",
       "    <tr>\n",
       "      <th>422</th>\n",
       "      <td>65723187</td>\n",
       "      <td>kyle vogt</td>\n",
       "      <td>cruise automation</td>\n",
       "      <td>None</td>\n",
       "      <td>0</td>\n",
       "      <td>0</td>\n",
       "      <td>0</td>\n",
       "      <td>0</td>\n",
       "    </tr>\n",
       "    <tr>\n",
       "      <th>255</th>\n",
       "      <td>61908201</td>\n",
       "      <td>john danaher</td>\n",
       "      <td>the path to mastery in jiu jitsu, grappling, j...</td>\n",
       "      <td>None</td>\n",
       "      <td>0</td>\n",
       "      <td>0</td>\n",
       "      <td>0</td>\n",
       "      <td>0</td>\n",
       "    </tr>\n",
       "    <tr>\n",
       "      <th>38</th>\n",
       "      <td>87017009</td>\n",
       "      <td>jared kushner</td>\n",
       "      <td>israel, palestine, hamas, gaza, iran, and the ...</td>\n",
       "      <td>https://lexfridman.com/jared-kushner-transcript</td>\n",
       "      <td>0</td>\n",
       "      <td>0</td>\n",
       "      <td>0</td>\n",
       "      <td>0</td>\n",
       "    </tr>\n",
       "    <tr>\n",
       "      <th>331</th>\n",
       "      <td>83445856</td>\n",
       "      <td>matt botvinick</td>\n",
       "      <td>neuroscience, psychology, and ai at deepmind</td>\n",
       "      <td>None</td>\n",
       "      <td>1</td>\n",
       "      <td>1</td>\n",
       "      <td>0</td>\n",
       "      <td>1</td>\n",
       "    </tr>\n",
       "    <tr>\n",
       "      <th>54</th>\n",
       "      <td>99072863</td>\n",
       "      <td>mark zuckerberg</td>\n",
       "      <td>future of ai at meta, facebook, instagram, and...</td>\n",
       "      <td>None</td>\n",
       "      <td>0</td>\n",
       "      <td>1</td>\n",
       "      <td>0</td>\n",
       "      <td>0</td>\n",
       "    </tr>\n",
       "    <tr>\n",
       "      <th>73</th>\n",
       "      <td>81641693</td>\n",
       "      <td>chris voss</td>\n",
       "      <td>fbi hostage negotiator</td>\n",
       "      <td>None</td>\n",
       "      <td>0</td>\n",
       "      <td>0</td>\n",
       "      <td>0</td>\n",
       "      <td>0</td>\n",
       "    </tr>\n",
       "    <tr>\n",
       "      <th>251</th>\n",
       "      <td>86922028</td>\n",
       "      <td>bryan johnson</td>\n",
       "      <td>kernel brain-computer interfaces</td>\n",
       "      <td>None</td>\n",
       "      <td>0</td>\n",
       "      <td>0</td>\n",
       "      <td>0</td>\n",
       "      <td>0</td>\n",
       "    </tr>\n",
       "    <tr>\n",
       "      <th>337</th>\n",
       "      <td>63726207</td>\n",
       "      <td>karl friston</td>\n",
       "      <td>neuroscience and the free energy principle</td>\n",
       "      <td>None</td>\n",
       "      <td>0</td>\n",
       "      <td>0</td>\n",
       "      <td>0</td>\n",
       "      <td>0</td>\n",
       "    </tr>\n",
       "  </tbody>\n",
       "</table>\n",
       "</div>"
      ],
      "text/plain": [
       "           id            guest  \\\n",
       "392  70048196   david ferrucci   \n",
       "125  84886709  duncan trussell   \n",
       "422  65723187        kyle vogt   \n",
       "255  61908201     john danaher   \n",
       "38   87017009    jared kushner   \n",
       "331  83445856   matt botvinick   \n",
       "54   99072863  mark zuckerberg   \n",
       "73   81641693       chris voss   \n",
       "251  86922028    bryan johnson   \n",
       "337  63726207     karl friston   \n",
       "\n",
       "                                                 title  \\\n",
       "392  ibm watson, jeopardy & deep conversations with ai   \n",
       "125  comedy, sentient robots, suffering, love & bur...   \n",
       "422                                  cruise automation   \n",
       "255  the path to mastery in jiu jitsu, grappling, j...   \n",
       "38   israel, palestine, hamas, gaza, iran, and the ...   \n",
       "331       neuroscience, psychology, and ai at deepmind   \n",
       "54   future of ai at meta, facebook, instagram, and...   \n",
       "73                              fbi hostage negotiator   \n",
       "251                   kernel brain-computer interfaces   \n",
       "337         neuroscience and the free energy principle   \n",
       "\n",
       "                                      url_transcript  has_relevant_guest  \\\n",
       "392                                             None                   0   \n",
       "125                                             None                   0   \n",
       "422                                             None                   0   \n",
       "255                                             None                   0   \n",
       "38   https://lexfridman.com/jared-kushner-transcript                   0   \n",
       "331                                             None                   1   \n",
       "54                                              None                   0   \n",
       "73                                              None                   0   \n",
       "251                                             None                   0   \n",
       "337                                             None                   0   \n",
       "\n",
       "     has_ml_word  manual_label  label  \n",
       "392            1             0      0  \n",
       "125            0             0      0  \n",
       "422            0             0      0  \n",
       "255            0             0      0  \n",
       "38             0             0      0  \n",
       "331            1             0      1  \n",
       "54             1             0      0  \n",
       "73             0             0      0  \n",
       "251            0             0      0  \n",
       "337            0             0      0  "
      ]
     },
     "execution_count": 15,
     "metadata": {},
     "output_type": "execute_result"
    }
   ],
   "source": [
    "df_podcast.sample(10)"
   ]
  },
  {
   "cell_type": "markdown",
   "id": "a0c0a753",
   "metadata": {},
   "source": [
    "#### Data augmentation\n",
    "\n",
    "##### Using synonyms"
   ]
  },
  {
   "cell_type": "code",
   "execution_count": 16,
   "id": "bd540e47",
   "metadata": {},
   "outputs": [
    {
     "name": "stderr",
     "output_type": "stream",
     "text": [
      "[nltk_data] Downloading package wordnet to /home/pierre/nltk_data...\n",
      "[nltk_data]   Package wordnet is already up-to-date!\n",
      "[nltk_data] Downloading package stopwords to /home/pierre/nltk_data...\n",
      "[nltk_data]   Package stopwords is already up-to-date!\n"
     ]
    }
   ],
   "source": [
    "import nltk\n",
    "nltk.download('wordnet')\n",
    "nltk.download('stopwords')\n",
    "\n",
    "from nltk.corpus import wordnet as wn\n"
   ]
  },
  {
   "cell_type": "code",
   "execution_count": 17,
   "id": "08b59c0b",
   "metadata": {},
   "outputs": [
    {
     "data": {
      "text/plain": [
       "['railroad_car',\n",
       " 'gondola',\n",
       " 'cable_car',\n",
       " 'railway_car',\n",
       " 'railcar',\n",
       " 'motorcar',\n",
       " 'automobile',\n",
       " 'machine',\n",
       " 'elevator_car',\n",
       " 'auto']"
      ]
     },
     "execution_count": 17,
     "metadata": {},
     "output_type": "execute_result"
    }
   ],
   "source": [
    "def get_synonyms(word):\n",
    "    synonyms = set()\n",
    "    for syn in wn.synsets(word):\n",
    "        for lemma in syn.lemmas():\n",
    "            synonyms.add(lemma.name())\n",
    "    if word in synonyms:\n",
    "        synonyms.remove(word)\n",
    "    return list(synonyms)\n",
    "\n",
    "get_synonyms('car')"
   ]
  },
  {
   "cell_type": "markdown",
   "id": "e86914fd",
   "metadata": {},
   "source": [
    "=> too noisy, maybe in conjonction with post-tagging but that would be too much work for that project."
   ]
  },
  {
   "cell_type": "markdown",
   "id": "dfe48506",
   "metadata": {},
   "source": [
    "##### Using back translation"
   ]
  },
  {
   "cell_type": "code",
   "execution_count": 18,
   "id": "eb3ce407",
   "metadata": {},
   "outputs": [
    {
     "name": "stdout",
     "output_type": "stream",
     "text": [
      "['alibaba', 'apertium', 'argos', 'baidu', 'bing', 'caiyun', 'cloudTranslation', 'deepl', 'elia', 'google', 'hujiang', 'iciba', 'iflytek', 'iflyrec', 'itranslate', 'judic', 'languageWire', 'lingvanex', 'niutrans', 'mglip', 'mirai', 'modernMt', 'myMemory', 'papago', 'qqFanyi', 'qqTranSmart', 'reverso', 'sogou', 'sysTran', 'tilde', 'translateCom', 'translateMe', 'utibet', 'volcEngine', 'yandex', 'yeekit', 'youdao']\n"
     ]
    }
   ],
   "source": [
    "print(ts.translators_pool)"
   ]
  },
  {
   "cell_type": "code",
   "execution_count": 19,
   "id": "0e0a08c3",
   "metadata": {},
   "outputs": [
    {
     "name": "stdout",
     "output_type": "stream",
     "text": [
      "Hello mummy, you are the prettiest! I am so glad I am your son.\n",
      "Bonjour maman, tu es la plus jolie! Je suis tellement content d'être ton fils.\n",
      "Hello mom, you are the prettiest! I'm so happy to be your son.\n"
     ]
    }
   ],
   "source": [
    "txt = \"Hello mummy, you are the prettiest! I am so glad I am your son.\"\n",
    "_translator = \"google\" #| \"google\"\n",
    "intermediate_language = \"fr\" # \"fr\"\n",
    "\n",
    "txt_translated = ts.translate_text(\n",
    "    txt,\n",
    "    translator=_translator,\n",
    "    from_language=\"en\",\n",
    "    to_language=intermediate_language,\n",
    ")\n",
    "\n",
    "txt_back_translated = ts.translate_text(\n",
    "    txt_translated,\n",
    "    translator=_translator,\n",
    "    from_language=intermediate_language,\n",
    "    to_language=\"en\",\n",
    ")\n",
    "\n",
    "print(txt)\n",
    "print(txt_translated)\n",
    "print(txt_back_translated)"
   ]
  },
  {
   "cell_type": "code",
   "execution_count": null,
   "id": "805e591c",
   "metadata": {},
   "outputs": [],
   "source": [
    "%%time\n",
    "\n",
    "translators = [\n",
    "    \"google\",\n",
    "    # \"alibaba\",\n",
    "]\n",
    "\n",
    "intermediate_languages = [\n",
    "    \"ja\", # Japenese\n",
    "    \"fr\", # French\n",
    "    \"es\", # Spanish\n",
    "    \"zh\", # Chinese\n",
    "    \"de\", # German\n",
    "    \"no\" # Norwegian\n",
    "]\n",
    "\n",
    "\n",
    "augment_with_backtranslation_parametrized = partial(\n",
    "    augment_with_backtranslation,\n",
    "    translators=translators,\n",
    "    intermediate_languages=intermediate_languages,\n",
    "    return_original_text=True,\n",
    ")\n",
    "\n",
    "pool = mp.Pool(4)\n",
    "res_backtranslation = list(\n",
    "    tqdm(\n",
    "        pool.imap(\n",
    "            augment_with_backtranslation_parametrized,\n",
    "            df_podcast.title.values\n",
    "        ),\n",
    "    total=len(df_podcast)\n",
    "))\n",
    "pool.close()\n",
    "pool.join()"
   ]
  },
  {
   "cell_type": "code",
   "execution_count": null,
   "id": "1cbb00f1",
   "metadata": {},
   "outputs": [
    {
     "name": "stdout",
     "output_type": "stream",
     "text": [
      "ai in the age of reason"
     ]
    }
   ],
   "source": [
    "df_pod_augmented = df_podcast.copy(deep=True)\n",
    "\n",
    "map_text_to_augmented_texts = {\n",
    "    text: augmented_texts for text, augmented_texts \n",
    "    in res_backtranslation\n",
    "}\n",
    "df_pod_augmented[\"title_backtranslated\"] = df_pod_augmented.title.map(map_text_to_augmented_texts)\n",
    "df_pod_augmented = df_pod_augmented.explode(\"title_backtranslated\").reset_index(drop=True)\n",
    "\n",
    "save = False\n",
    "if save:\n",
    "    file = os.path.join(PATH_DATA, FILE_PODCAST_AUGMENTED)\n",
    "    df_pod_augmented.to_csv(file, sep=\";\", index=False)\n",
    "    print(\"Augmented podcast file saved.\")"
   ]
  },
  {
   "cell_type": "markdown",
   "id": "e523b27b",
   "metadata": {},
   "source": [
    "#### Data augmentation impact on performance."
   ]
  },
  {
   "cell_type": "code",
   "execution_count": 10,
   "id": "daeb0827",
   "metadata": {},
   "outputs": [],
   "source": [
    "def augment_df_dataset(df_train: pd.DataFrame, df_pod_augmented: pd.DataFrame) -> pd.DataFrame:\n",
    "    \"\"\"\n",
    "    Given a training datafame and a dataframe with augmented title, add all augmented titles relevant to the the training. \n",
    "    \"\"\"\n",
    "    df_augmented = df_pod_augmented.loc[:, [\"id\", \"title_backtranslated\", \"label\"]].merge(\n",
    "        df_train.loc[:,['id']],\n",
    "        on=\"id\",\n",
    "        how=\"inner\",\n",
    "    )\n",
    "    df_dataset_augmented = df_augmented.rename(columns={\"title_backtranslated\": \"title\"}).loc[:, [\"id\", \"title\", \"label\"]].dropna()\n",
    "\n",
    "    df_train_augmented = pd.concat((df_train, df_dataset_augmented), axis=0)\n",
    "\n",
    "    return df_train_augmented"
   ]
  },
  {
   "cell_type": "markdown",
   "id": "79ff8433",
   "metadata": {},
   "source": [
    "- load a pretrained Distil Bert model with its tokenizer.\n",
    "- define a function to tokenize batch of the dataset and a functions to compute classification metrics (f1 and accuracy).\n",
    "\n",
    "Note:\n",
    "- A posteriori, it could be more efficient to do the data augmentation inside a map function of a dataset.\n",
    "- It has been choosen not to fine-tuned the tokenizer since the corpus is not too specific and we does not to retrained our model to adapt it to the new vocabulary."
   ]
  },
  {
   "cell_type": "code",
   "execution_count": 16,
   "id": "1779054e",
   "metadata": {},
   "outputs": [
    {
     "name": "stderr",
     "output_type": "stream",
     "text": [
      "Some weights of DistilBertForSequenceClassification were not initialized from the model checkpoint at distilbert-base-uncased and are newly initialized: ['classifier.bias', 'classifier.weight', 'pre_classifier.bias', 'pre_classifier.weight']\n",
      "You should probably TRAIN this model on a down-stream task to be able to use it for predictions and inference.\n"
     ]
    }
   ],
   "source": [
    "model_name = \"distilbert-base-uncased\" # \"bert-base-uncased\" \n",
    "\n",
    "model = DistilBertForSequenceClassification.from_pretrained(model_name, num_labels=2)\n",
    "tokenizer = DistilBertTokenizer.from_pretrained(model_name)\n",
    "tokenize_title_with_tokenizer = partial(\n",
    "    tokenize_title,\n",
    "    tokenizer=tokenizer,\n",
    ")"
   ]
  },
  {
   "cell_type": "code",
   "execution_count": 40,
   "id": "ed183602",
   "metadata": {},
   "outputs": [
    {
     "name": "stderr",
     "output_type": "stream",
     "text": [
      "Map: 100%|██████████| 283/283 [00:00<00:00, 3534.61 examples/s]\n",
      "Map: 100%|██████████| 1256/1256 [00:00<00:00, 7019.49 examples/s]\n",
      "Map: 100%|██████████| 153/153 [00:00<00:00, 6651.83 examples/s]\n"
     ]
    }
   ],
   "source": [
    "if False:\n",
    "    raise Exception(\"Are you sure to want to reset dataset split?\")\n",
    "\n",
    "df_dataset = df_podcast.loc[:, [\"id\", \"title\", \"label\"]]\n",
    "\n",
    "df_train, df_test = train_test_split(\n",
    "    df_dataset,\n",
    "    test_size=.35,\n",
    "    stratify=df_podcast.label,\n",
    "    random_state=20\n",
    ")\n",
    "df_train_augmented = augment_df_dataset(df_train, df_pod_augmented)\n",
    "# For later usages, this split is save.\n",
    "dfs_and_names = (\n",
    "    (df_train, df_train_augmented, df_test),\n",
    "    (\"df_classify_title_train\", \"df_classify_title_train_augmented\", \"df_classify_title_test\")\n",
    ")\n",
    "for df, name in zip(*dfs_and_names):\n",
    "    joblib.dump(df, os.path.join(PATH_DATA, name))\n",
    "\n",
    "dataset_train = Dataset.from_pandas(df_train)\n",
    "dataset_train = dataset_train.map(tokenize_title_with_tokenizer, batched=True)\n",
    "\n",
    "dataset_train_augmented = Dataset.from_pandas(df_train_augmented)\n",
    "dataset_train_augmented = dataset_train_augmented.map(tokenize_title_with_tokenizer, batched=True)\n",
    "\n",
    "dataset_test = Dataset.from_pandas(df_test)\n",
    "dataset_test = dataset_test.map(tokenize_title_with_tokenizer, batched=True)\n"
   ]
  },
  {
   "cell_type": "code",
   "execution_count": 17,
   "id": "3fc5cea9",
   "metadata": {},
   "outputs": [],
   "source": [
    "early_stopping_callback = EarlyStoppingCallback(\n",
    "    early_stopping_patience=3,  \n",
    "    early_stopping_threshold=0.0,\n",
    ")\n",
    "\n",
    "training_args = TrainingArguments(\n",
    "    output_dir=os.path.join(PATH_TRAINING, MODEL_DBERT_TOPIC_CLASSIFIER),\n",
    "    logging_dir=PATH_LOG,   \n",
    "    num_train_epochs=5,             \n",
    "    per_device_train_batch_size=8,  \n",
    "    per_device_eval_batch_size=8,   \n",
    "    learning_rate=5e-5,  \n",
    "    warmup_steps=50,               \n",
    "    weight_decay=1e-3,\n",
    "    load_best_model_at_end=True,    \n",
    "    metric_for_best_model=\"f1_plus_log_likelihood\",# \"f1\"\n",
    "    save_total_limit=5,\n",
    "    save_strategy=\"steps\",  \n",
    "    eval_strategy=\"steps\",\n",
    "    save_steps=20,\n",
    "    eval_steps=20,\n",
    "    logging_steps=20,\n",
    ")\n",
    "trainer = Trainer(\n",
    "    model=deepcopy(model),\n",
    "    args=training_args,\n",
    "    train_dataset=dataset_train,\n",
    "    eval_dataset=dataset_test,\n",
    "    compute_metrics=compute_classification_metrics,\n",
    "    callbacks=[early_stopping_callback],\n",
    ")\n",
    "\n",
    "training_args = TrainingArguments(\n",
    "    output_dir=os.path.join(PATH_TRAINING, MODEL_DBERT_TOPIC_CLASSIFIER_AUGMENTED),\n",
    "    logging_dir=PATH_LOG,   \n",
    "    num_train_epochs=5,             \n",
    "    per_device_train_batch_size=8,  \n",
    "    per_device_eval_batch_size=8, \n",
    "    learning_rate=5e-5,  \n",
    "    warmup_steps=100,               \n",
    "    weight_decay=1e-3,\n",
    "    load_best_model_at_end=True,    \n",
    "    metric_for_best_model=\"f1_plus_log_likelihood\",# \"f1\"\n",
    "    save_total_limit=5,\n",
    "    save_strategy=\"steps\",  \n",
    "    eval_strategy=\"steps\",\n",
    "    save_steps=20,\n",
    "    eval_steps=20,\n",
    "    logging_steps=20,\n",
    ")\n",
    "trainer_augmented = Trainer(\n",
    "    model=deepcopy(model),\n",
    "    args=training_args,\n",
    "    train_dataset=dataset_train_augmented,\n",
    "    eval_dataset=dataset_test,\n",
    "    compute_metrics=compute_classification_metrics,\n",
    "    callbacks=[early_stopping_callback],\n",
    ")"
   ]
  },
  {
   "cell_type": "markdown",
   "id": "1157d09d",
   "metadata": {},
   "source": [
    "Of course, before fine-tuning, both models have the same mediocre performancs:"
   ]
  },
  {
   "cell_type": "code",
   "execution_count": 18,
   "id": "ae5df027",
   "metadata": {},
   "outputs": [
    {
     "data": {
      "text/html": [],
      "text/plain": [
       "<IPython.core.display.HTML object>"
      ]
     },
     "metadata": {},
     "output_type": "display_data"
    },
    {
     "name": "stdout",
     "output_type": "stream",
     "text": [
      "{'accuracy': 0.1568627450980392, 'f1': 0.24561403508771928, 'log_likelihood': -0.7182135638577525, 'f1_plus_log_likelihood': -0.4725995287700332}\n"
     ]
    },
    {
     "data": {
      "text/html": [],
      "text/plain": [
       "<IPython.core.display.HTML object>"
      ]
     },
     "metadata": {},
     "output_type": "display_data"
    },
    {
     "name": "stdout",
     "output_type": "stream",
     "text": [
      "{'accuracy': 0.1568627450980392, 'f1': 0.24561403508771928, 'log_likelihood': -0.7182135638577525, 'f1_plus_log_likelihood': -0.4725995287700332}\n"
     ]
    }
   ],
   "source": [
    "pred_logits, pred_labels, metrics = trainer.predict(dataset_test)\n",
    "print(compute_classification_metrics((pred_logits, dataset_test['label'])))\n",
    "\n",
    "pred_logits, pred_labels, metrics = trainer_augmented.predict(dataset_test)\n",
    "print(compute_classification_metrics((pred_logits, dataset_test['label'])))"
   ]
  },
  {
   "cell_type": "markdown",
   "id": "3e992e95",
   "metadata": {},
   "source": [
    "Training without data augmentation."
   ]
  },
  {
   "cell_type": "code",
   "execution_count": 19,
   "id": "aa3112da",
   "metadata": {},
   "outputs": [
    {
     "data": {
      "text/plain": [
       "Parameter containing:\n",
       "tensor([[ 0.0290,  0.0063, -0.0048,  ...,  0.0075,  0.0105,  0.0216],\n",
       "        [-0.0058,  0.0149,  0.0030,  ..., -0.0211,  0.0196,  0.0102]],\n",
       "       requires_grad=True)"
      ]
     },
     "execution_count": 19,
     "metadata": {},
     "output_type": "execute_result"
    }
   ],
   "source": [
    "model.classifier.weight"
   ]
  },
  {
   "cell_type": "code",
   "execution_count": 20,
   "id": "c8e95e9a",
   "metadata": {},
   "outputs": [
    {
     "data": {
      "text/plain": [
       "Parameter containing:\n",
       "tensor([[ 0.0290,  0.0063, -0.0048,  ...,  0.0075,  0.0105,  0.0216],\n",
       "        [-0.0058,  0.0149,  0.0030,  ..., -0.0211,  0.0196,  0.0102]],\n",
       "       requires_grad=True)"
      ]
     },
     "execution_count": 20,
     "metadata": {},
     "output_type": "execute_result"
    }
   ],
   "source": [
    "trainer.model.classifier.weight"
   ]
  },
  {
   "cell_type": "code",
   "execution_count": 21,
   "id": "907e1b3b",
   "metadata": {},
   "outputs": [
    {
     "data": {
      "text/plain": [
       "Parameter containing:\n",
       "tensor([[ 0.0290,  0.0063, -0.0048,  ...,  0.0075,  0.0105,  0.0216],\n",
       "        [-0.0058,  0.0149,  0.0030,  ..., -0.0211,  0.0196,  0.0102]],\n",
       "       requires_grad=True)"
      ]
     },
     "execution_count": 21,
     "metadata": {},
     "output_type": "execute_result"
    }
   ],
   "source": [
    "trainer_augmented.model.classifier.weight"
   ]
  },
  {
   "cell_type": "code",
   "execution_count": 22,
   "id": "5b6711ac",
   "metadata": {},
   "outputs": [
    {
     "data": {
      "text/html": [
       "\n",
       "    <div>\n",
       "      \n",
       "      <progress value='180' max='180' style='width:300px; height:20px; vertical-align: middle;'></progress>\n",
       "      [180/180 14:48, Epoch 5/5]\n",
       "    </div>\n",
       "    <table border=\"1\" class=\"dataframe\">\n",
       "  <thead>\n",
       " <tr style=\"text-align: left;\">\n",
       "      <th>Step</th>\n",
       "      <th>Training Loss</th>\n",
       "      <th>Validation Loss</th>\n",
       "      <th>Accuracy</th>\n",
       "      <th>F1</th>\n",
       "      <th>Log Likelihood</th>\n",
       "      <th>F1 Plus Log Likelihood</th>\n",
       "    </tr>\n",
       "  </thead>\n",
       "  <tbody>\n",
       "    <tr>\n",
       "      <td>20</td>\n",
       "      <td>0.633400</td>\n",
       "      <td>0.465193</td>\n",
       "      <td>0.849673</td>\n",
       "      <td>0.000000</td>\n",
       "      <td>-0.465193</td>\n",
       "      <td>-0.465193</td>\n",
       "    </tr>\n",
       "    <tr>\n",
       "      <td>40</td>\n",
       "      <td>0.426900</td>\n",
       "      <td>0.356802</td>\n",
       "      <td>0.849673</td>\n",
       "      <td>0.000000</td>\n",
       "      <td>-0.356802</td>\n",
       "      <td>-0.356802</td>\n",
       "    </tr>\n",
       "    <tr>\n",
       "      <td>60</td>\n",
       "      <td>0.257500</td>\n",
       "      <td>0.329920</td>\n",
       "      <td>0.888889</td>\n",
       "      <td>0.451613</td>\n",
       "      <td>-0.329920</td>\n",
       "      <td>0.121693</td>\n",
       "    </tr>\n",
       "    <tr>\n",
       "      <td>80</td>\n",
       "      <td>0.205300</td>\n",
       "      <td>0.308992</td>\n",
       "      <td>0.921569</td>\n",
       "      <td>0.666667</td>\n",
       "      <td>-0.308992</td>\n",
       "      <td>0.357674</td>\n",
       "    </tr>\n",
       "    <tr>\n",
       "      <td>100</td>\n",
       "      <td>0.108100</td>\n",
       "      <td>0.288569</td>\n",
       "      <td>0.928105</td>\n",
       "      <td>0.717949</td>\n",
       "      <td>-0.288569</td>\n",
       "      <td>0.429380</td>\n",
       "    </tr>\n",
       "    <tr>\n",
       "      <td>120</td>\n",
       "      <td>0.061000</td>\n",
       "      <td>0.327191</td>\n",
       "      <td>0.934641</td>\n",
       "      <td>0.736842</td>\n",
       "      <td>-0.327191</td>\n",
       "      <td>0.409651</td>\n",
       "    </tr>\n",
       "    <tr>\n",
       "      <td>140</td>\n",
       "      <td>0.080300</td>\n",
       "      <td>0.312082</td>\n",
       "      <td>0.928105</td>\n",
       "      <td>0.744186</td>\n",
       "      <td>-0.312082</td>\n",
       "      <td>0.432104</td>\n",
       "    </tr>\n",
       "    <tr>\n",
       "      <td>160</td>\n",
       "      <td>0.029100</td>\n",
       "      <td>0.370279</td>\n",
       "      <td>0.928105</td>\n",
       "      <td>0.702703</td>\n",
       "      <td>-0.370279</td>\n",
       "      <td>0.332424</td>\n",
       "    </tr>\n",
       "    <tr>\n",
       "      <td>180</td>\n",
       "      <td>0.004400</td>\n",
       "      <td>0.346178</td>\n",
       "      <td>0.934641</td>\n",
       "      <td>0.736842</td>\n",
       "      <td>-0.346178</td>\n",
       "      <td>0.390664</td>\n",
       "    </tr>\n",
       "  </tbody>\n",
       "</table><p>"
      ],
      "text/plain": [
       "<IPython.core.display.HTML object>"
      ]
     },
     "metadata": {},
     "output_type": "display_data"
    },
    {
     "name": "stdout",
     "output_type": "stream",
     "text": [
      "CPU times: user 1h 24min 14s, sys: 1min, total: 1h 25min 15s\n",
      "Wall time: 14min 52s\n"
     ]
    }
   ],
   "source": [
    "%%time\n",
    "\n",
    "train_result = trainer.train()"
   ]
  },
  {
   "cell_type": "code",
   "execution_count": 24,
   "id": "1c9da45f",
   "metadata": {},
   "outputs": [
    {
     "data": {
      "image/png": "[encoded data removed]",
      "text/plain": [
       "<Figure size 640x480 with 1 Axes>"
      ]
     },
     "metadata": {},
     "output_type": "display_data"
    }
   ],
   "source": [
    "log_history = trainer.state.log_history\n",
    "plot_learning_curve(log_history, eval_metric=\"eval_f1_plus_log_likelihood\")"
   ]
  },
  {
   "cell_type": "code",
   "execution_count": 25,
   "id": "c03fe409",
   "metadata": {},
   "outputs": [
    {
     "data": {
      "text/plain": [
       "Parameter containing:\n",
       "tensor([[ 0.0290,  0.0063, -0.0048,  ...,  0.0075,  0.0105,  0.0216],\n",
       "        [-0.0058,  0.0149,  0.0030,  ..., -0.0211,  0.0196,  0.0102]],\n",
       "       requires_grad=True)"
      ]
     },
     "execution_count": 25,
     "metadata": {},
     "output_type": "execute_result"
    }
   ],
   "source": [
    "model.classifier.weight"
   ]
  },
  {
   "cell_type": "code",
   "execution_count": 26,
   "id": "55e7617f",
   "metadata": {},
   "outputs": [
    {
     "data": {
      "text/plain": [
       "Parameter containing:\n",
       "tensor([[ 0.0305,  0.0064, -0.0045,  ...,  0.0095,  0.0097,  0.0230],\n",
       "        [-0.0072,  0.0148,  0.0028,  ..., -0.0231,  0.0204,  0.0088]],\n",
       "       requires_grad=True)"
      ]
     },
     "execution_count": 26,
     "metadata": {},
     "output_type": "execute_result"
    }
   ],
   "source": [
    "trainer.model.classifier.weight"
   ]
  },
  {
   "cell_type": "code",
   "execution_count": 27,
   "id": "86e7c124",
   "metadata": {},
   "outputs": [
    {
     "data": {
      "text/plain": [
       "Parameter containing:\n",
       "tensor([[ 0.0290,  0.0063, -0.0048,  ...,  0.0075,  0.0105,  0.0216],\n",
       "        [-0.0058,  0.0149,  0.0030,  ..., -0.0211,  0.0196,  0.0102]],\n",
       "       requires_grad=True)"
      ]
     },
     "execution_count": 27,
     "metadata": {},
     "output_type": "execute_result"
    }
   ],
   "source": [
    "trainer_augmented.model.classifier.weight"
   ]
  },
  {
   "cell_type": "code",
   "execution_count": 29,
   "id": "f3f105a9",
   "metadata": {},
   "outputs": [
    {
     "data": {
      "text/html": [],
      "text/plain": [
       "<IPython.core.display.HTML object>"
      ]
     },
     "metadata": {},
     "output_type": "display_data"
    },
    {
     "name": "stdout",
     "output_type": "stream",
     "text": [
      "{'accuracy': 0.9281045751633987, 'f1': 0.7441860465116279, 'log_likelihood': -0.31208182797095024, 'f1_plus_log_likelihood': 0.43210421854067765}\n"
     ]
    }
   ],
   "source": [
    "pred_logits, pred_labels, metrics = trainer.predict(dataset_test)\n",
    "print(compute_classification_metrics((pred_logits, dataset_test['label'])))"
   ]
  },
  {
   "cell_type": "code",
   "execution_count": 32,
   "id": "b4bd2930",
   "metadata": {},
   "outputs": [
    {
     "data": {
      "text/plain": [
       "('../model/distil_bert_topic_to_summarize_champion/tokenizer_config.json',\n",
       " '../model/distil_bert_topic_to_summarize_champion/special_tokens_map.json',\n",
       " '../model/distil_bert_topic_to_summarize_champion/vocab.txt',\n",
       " '../model/distil_bert_topic_to_summarize_champion/added_tokens.json')"
      ]
     },
     "execution_count": 32,
     "metadata": {},
     "output_type": "execute_result"
    }
   ],
   "source": [
    "# model_name = f\"{MODEL_DBERT_TOPIC_CLASSIFIER}_champion\"\n",
    "model_name = MODEL_DBERT_TOPIC_CLASSIFIER\n",
    "\n",
    "trainer.model.save_pretrained(os.path.join(PATH_MODEL, model_name))\n",
    "tokenizer.save_pretrained(os.path.join(PATH_MODEL, model_name))"
   ]
  },
  {
   "cell_type": "markdown",
   "id": "88862703",
   "metadata": {},
   "source": [
    "Augmented training"
   ]
  },
  {
   "cell_type": "code",
   "execution_count": 44,
   "id": "c8fc9f50",
   "metadata": {},
   "outputs": [
    {
     "data": {
      "text/html": [
       "\n",
       "    <div>\n",
       "      \n",
       "      <progress value='200' max='785' style='width:300px; height:20px; vertical-align: middle;'></progress>\n",
       "      [200/785 17:13 < 50:54, 0.19 it/s, Epoch 1/5]\n",
       "    </div>\n",
       "    <table border=\"1\" class=\"dataframe\">\n",
       "  <thead>\n",
       " <tr style=\"text-align: left;\">\n",
       "      <th>Step</th>\n",
       "      <th>Training Loss</th>\n",
       "      <th>Validation Loss</th>\n",
       "      <th>Accuracy</th>\n",
       "      <th>F1</th>\n",
       "      <th>Log Likelihood</th>\n",
       "      <th>F1 Plus Log Likelihood</th>\n",
       "    </tr>\n",
       "  </thead>\n",
       "  <tbody>\n",
       "    <tr>\n",
       "      <td>20</td>\n",
       "      <td>0.624600</td>\n",
       "      <td>0.537281</td>\n",
       "      <td>0.849673</td>\n",
       "      <td>0.000000</td>\n",
       "      <td>-0.537281</td>\n",
       "      <td>-0.537281</td>\n",
       "    </tr>\n",
       "    <tr>\n",
       "      <td>40</td>\n",
       "      <td>0.392200</td>\n",
       "      <td>0.433811</td>\n",
       "      <td>0.849673</td>\n",
       "      <td>0.000000</td>\n",
       "      <td>-0.433811</td>\n",
       "      <td>-0.433811</td>\n",
       "    </tr>\n",
       "    <tr>\n",
       "      <td>60</td>\n",
       "      <td>0.461800</td>\n",
       "      <td>0.403385</td>\n",
       "      <td>0.849673</td>\n",
       "      <td>0.000000</td>\n",
       "      <td>-0.403385</td>\n",
       "      <td>-0.403385</td>\n",
       "    </tr>\n",
       "    <tr>\n",
       "      <td>80</td>\n",
       "      <td>0.344400</td>\n",
       "      <td>0.279204</td>\n",
       "      <td>0.901961</td>\n",
       "      <td>0.571429</td>\n",
       "      <td>-0.279204</td>\n",
       "      <td>0.292225</td>\n",
       "    </tr>\n",
       "    <tr>\n",
       "      <td>100</td>\n",
       "      <td>0.201600</td>\n",
       "      <td>0.417536</td>\n",
       "      <td>0.849673</td>\n",
       "      <td>0.566038</td>\n",
       "      <td>-0.417536</td>\n",
       "      <td>0.148502</td>\n",
       "    </tr>\n",
       "    <tr>\n",
       "      <td>120</td>\n",
       "      <td>0.191400</td>\n",
       "      <td>0.333688</td>\n",
       "      <td>0.915033</td>\n",
       "      <td>0.682927</td>\n",
       "      <td>-0.333688</td>\n",
       "      <td>0.349238</td>\n",
       "    </tr>\n",
       "    <tr>\n",
       "      <td>140</td>\n",
       "      <td>0.244100</td>\n",
       "      <td>0.354104</td>\n",
       "      <td>0.915033</td>\n",
       "      <td>0.628571</td>\n",
       "      <td>-0.354104</td>\n",
       "      <td>0.274468</td>\n",
       "    </tr>\n",
       "    <tr>\n",
       "      <td>160</td>\n",
       "      <td>0.057800</td>\n",
       "      <td>0.415750</td>\n",
       "      <td>0.895425</td>\n",
       "      <td>0.619048</td>\n",
       "      <td>-0.415750</td>\n",
       "      <td>0.203297</td>\n",
       "    </tr>\n",
       "    <tr>\n",
       "      <td>180</td>\n",
       "      <td>0.016200</td>\n",
       "      <td>0.487979</td>\n",
       "      <td>0.895425</td>\n",
       "      <td>0.555556</td>\n",
       "      <td>-0.487979</td>\n",
       "      <td>0.067577</td>\n",
       "    </tr>\n",
       "    <tr>\n",
       "      <td>200</td>\n",
       "      <td>0.067400</td>\n",
       "      <td>0.509313</td>\n",
       "      <td>0.895425</td>\n",
       "      <td>0.555556</td>\n",
       "      <td>-0.509313</td>\n",
       "      <td>0.046243</td>\n",
       "    </tr>\n",
       "  </tbody>\n",
       "</table><p>"
      ],
      "text/plain": [
       "<IPython.core.display.HTML object>"
      ]
     },
     "metadata": {},
     "output_type": "display_data"
    },
    {
     "name": "stdout",
     "output_type": "stream",
     "text": [
      "CPU times: user 1h 38min 20s, sys: 1min 5s, total: 1h 39min 26s\n",
      "Wall time: 17min 18s\n"
     ]
    }
   ],
   "source": [
    "%%time\n",
    "\n",
    "train_output = trainer_augmented.train()"
   ]
  },
  {
   "cell_type": "code",
   "execution_count": 46,
   "id": "638e05e4",
   "metadata": {},
   "outputs": [
    {
     "data": {
      "image/png": "[encoded data removed]",
      "text/plain": [
       "<Figure size 640x480 with 1 Axes>"
      ]
     },
     "metadata": {},
     "output_type": "display_data"
    }
   ],
   "source": [
    "log_history = trainer_augmented.state.log_history\n",
    "plot_learning_curve(log_history, eval_metric=\"eval_f1_plus_log_likelihood\")"
   ]
  },
  {
   "cell_type": "code",
   "execution_count": 47,
   "id": "d34ccc47",
   "metadata": {},
   "outputs": [
    {
     "data": {
      "text/html": [],
      "text/plain": [
       "<IPython.core.display.HTML object>"
      ]
     },
     "metadata": {},
     "output_type": "display_data"
    },
    {
     "name": "stdout",
     "output_type": "stream",
     "text": [
      "{'accuracy': 0.9150326797385621, 'f1': 0.6829268292682927, 'log_likelihood': -0.3336883503783885, 'f1_plus_log_likelihood': 0.3492384788899042}\n"
     ]
    }
   ],
   "source": [
    "pred_logits, pred_labels, metrics = trainer_augmented.predict(dataset_test)\n",
    "print(compute_classification_metrics((pred_logits, dataset_test['label'])))"
   ]
  },
  {
   "cell_type": "code",
   "execution_count": 37,
   "id": "7268e2e9",
   "metadata": {},
   "outputs": [
    {
     "data": {
      "text/plain": [
       "('../model/distil_bert_topic_to_summarize_augmented_champion/tokenizer_config.json',\n",
       " '../model/distil_bert_topic_to_summarize_augmented_champion/special_tokens_map.json',\n",
       " '../model/distil_bert_topic_to_summarize_augmented_champion/vocab.txt',\n",
       " '../model/distil_bert_topic_to_summarize_augmented_champion/added_tokens.json')"
      ]
     },
     "execution_count": 37,
     "metadata": {},
     "output_type": "execute_result"
    }
   ],
   "source": [
    "model_name = MODEL_DBERT_TOPIC_CLASSIFIER_AUGMENTED\n",
    "# model_name = f\"{MODEL_DBERT_TOPIC_CLASSIFIER_AUGMENTED}_champion\"\n",
    "\n",
    "trainer_augmented.model.save_pretrained(os.path.join(PATH_MODEL, model_name))\n",
    "tokenizer.save_pretrained(os.path.join(PATH_MODEL, model_name))\n"
   ]
  },
  {
   "cell_type": "markdown",
   "id": "e449979e",
   "metadata": {},
   "source": [
    "_______\n",
    "\n",
    "[anchor]\n",
    "#### Usage of the model\n",
    "\n",
    "Prediciton using a script."
   ]
  },
  {
   "cell_type": "raw",
   "id": "ab13de1f",
   "metadata": {},
   "source": [
    "MODEL_DBERT_TOPIC_CLASSIFIER\n",
    "MODEL_DBERT_TOPIC_CLASSIFIER_AUGMENTED"
   ]
  },
  {
   "cell_type": "code",
   "execution_count": 4,
   "id": "fb67506d",
   "metadata": {},
   "outputs": [],
   "source": [
    "MODEL = f\"{MODEL_DBERT_TOPIC_CLASSIFIER}_champion\""
   ]
  },
  {
   "cell_type": "code",
   "execution_count": 5,
   "id": "90661b7d",
   "metadata": {},
   "outputs": [
    {
     "name": "stdout",
     "output_type": "stream",
     "text": [
      "/home/pierre/project/PodConcise/podconcise/nlp_utils.py:157: FutureWarning: load_metric is deprecated and will be removed in the next major version of datasets. Use 'evaluate.load' instead, from the new library 🤗 Evaluate: https://huggingface.co/docs/evaluate\n",
      "  metric = load_metric(\"glue\", \"mrpc\", trust_remote_code=True) # f1 & accuracy\n",
      "100%|███████████████████████████████████████████| 20/20 [00:21<00:00,  1.06s/it]\n",
      "INFO:root:Prediction done, repartition of predicted classes:\n",
      "0    133\n",
      "1     20\n",
      "Name: count, dtype: int64\n",
      "INFO:root:Prediction file dumped at: ../data/df_classify_title_predicted\n"
     ]
    }
   ],
   "source": [
    "!python ../scripts/classify_titles.py --model {MODEL} --dataset df_classify_title_test"
   ]
  },
  {
   "cell_type": "markdown",
   "id": "e5dfbd2a",
   "metadata": {},
   "source": [
    "Loading of the prediction dataframe."
   ]
  },
  {
   "cell_type": "code",
   "execution_count": 6,
   "id": "abe1ed92",
   "metadata": {},
   "outputs": [
    {
     "name": "stdout",
     "output_type": "stream",
     "text": [
      "(153, 4)\n"
     ]
    }
   ],
   "source": [
    "file_pred = \"df_classify_title_predicted\"\n",
    "df_pred = joblib.load(os.path.join(PATH_DATA, file_pred))\n",
    "print(df_pred.shape)"
   ]
  },
  {
   "cell_type": "markdown",
   "id": "0e72415b",
   "metadata": {},
   "source": [
    "Local prediction"
   ]
  },
  {
   "cell_type": "code",
   "execution_count": 65,
   "id": "c2b7f662",
   "metadata": {},
   "outputs": [
    {
     "name": "stderr",
     "output_type": "stream",
     "text": [
      "100%|██████████| 20/20 [00:24<00:00,  1.24s/it]"
     ]
    },
    {
     "name": "stdout",
     "output_type": "stream",
     "text": [
      "Prediction done, repartition of predicted classes:\n",
      "0    137\n",
      "1     16\n",
      "Name: count, dtype: int64\n"
     ]
    },
    {
     "name": "stderr",
     "output_type": "stream",
     "text": [
      "\n"
     ]
    }
   ],
   "source": [
    "BATCH_SIZE = 8\n",
    "\n",
    "df_pred = df_test.copy(deep=True)\n",
    "\n",
    "total_preds = []\n",
    "iter_dataset= dataset_test.iter(batch_size=BATCH_SIZE)\n",
    "\n",
    "for batch in tqdm(iter_dataset, total=math.ceil(dataset_test.num_rows/BATCH_SIZE)):\n",
    "    \n",
    "    inputs = tokenize_title(batch, tokenizer)\n",
    "    outputs = trainer.model(**inputs)\n",
    "    logits = outputs.logits\n",
    "    proba = torch.nn.functional.softmax(logits, dim=1)\n",
    "    pred = torch.argmax(proba, dim=1).numpy()\n",
    "    total_preds.append(pred)\n",
    "\n",
    "predictions = np.concatenate(total_preds)\n",
    "log_msg = (\n",
    "    \"Prediction done, repartition of predicted classes:\\n\" +\n",
    "    f\"{pd.Series(predictions).value_counts()}\"\n",
    ")\n",
    "print(log_msg)\n",
    "df_pred[\"pred\"] = predictions"
   ]
  },
  {
   "cell_type": "markdown",
   "id": "79b194a1",
   "metadata": {},
   "source": [
    "##### Analysis of the classification errors."
   ]
  },
  {
   "cell_type": "code",
   "execution_count": 7,
   "id": "d52898a8",
   "metadata": {},
   "outputs": [
    {
     "name": "stdout",
     "output_type": "stream",
     "text": [
      "              precision    recall  f1-score   support\n",
      "\n",
      "           0       0.95      0.97      0.96       130\n",
      "           1       0.80      0.70      0.74        23\n",
      "\n",
      "    accuracy                           0.93       153\n",
      "   macro avg       0.87      0.83      0.85       153\n",
      "weighted avg       0.93      0.93      0.93       153\n",
      "\n"
     ]
    }
   ],
   "source": [
    "print(classification_report(df_pred.label, df_pred.pred))"
   ]
  },
  {
   "cell_type": "code",
   "execution_count": 8,
   "id": "06e3bbb8",
   "metadata": {},
   "outputs": [
    {
     "name": "stdout",
     "output_type": "stream",
     "text": [
      "False positive: 4,  False negative: 7\n"
     ]
    }
   ],
   "source": [
    "df_FN =  df_pred.loc[(df_pred.pred == 0) & (df_pred.label == 1)]\n",
    "df_FP =  df_pred.loc[(df_pred.pred == 1) & (df_pred.label == 0)]\n",
    "\n",
    "print(f\"False positive: {len(df_FP)},  False negative: {len(df_FN)}\")"
   ]
  },
  {
   "cell_type": "code",
   "execution_count": 9,
   "id": "5ad39633",
   "metadata": {},
   "outputs": [
    {
     "data": {
      "text/html": [
       "<div>\n",
       "<style scoped>\n",
       "    .dataframe tbody tr th:only-of-type {\n",
       "        vertical-align: middle;\n",
       "    }\n",
       "\n",
       "    .dataframe tbody tr th {\n",
       "        vertical-align: top;\n",
       "    }\n",
       "\n",
       "    .dataframe thead th {\n",
       "        text-align: right;\n",
       "    }\n",
       "</style>\n",
       "<table border=\"1\" class=\"dataframe\">\n",
       "  <thead>\n",
       "    <tr style=\"text-align: right;\">\n",
       "      <th></th>\n",
       "      <th>id</th>\n",
       "      <th>title</th>\n",
       "      <th>label</th>\n",
       "      <th>pred</th>\n",
       "    </tr>\n",
       "  </thead>\n",
       "  <tbody>\n",
       "    <tr>\n",
       "      <th>296</th>\n",
       "      <td>22588268</td>\n",
       "      <td>economics of ai, social networks &amp; technology</td>\n",
       "      <td>0</td>\n",
       "      <td>1</td>\n",
       "    </tr>\n",
       "    <tr>\n",
       "      <th>156</th>\n",
       "      <td>61436486</td>\n",
       "      <td>music, ai, and the future of humanity</td>\n",
       "      <td>0</td>\n",
       "      <td>1</td>\n",
       "    </tr>\n",
       "    <tr>\n",
       "      <th>271</th>\n",
       "      <td>39037646</td>\n",
       "      <td>deep work</td>\n",
       "      <td>0</td>\n",
       "      <td>1</td>\n",
       "    </tr>\n",
       "    <tr>\n",
       "      <th>54</th>\n",
       "      <td>99072863</td>\n",
       "      <td>future of ai at meta, facebook, instagram, and...</td>\n",
       "      <td>0</td>\n",
       "      <td>1</td>\n",
       "    </tr>\n",
       "  </tbody>\n",
       "</table>\n",
       "</div>"
      ],
      "text/plain": [
       "           id                                              title  label  pred\n",
       "296  22588268      economics of ai, social networks & technology      0     1\n",
       "156  61436486              music, ai, and the future of humanity      0     1\n",
       "271  39037646                                          deep work      0     1\n",
       "54   99072863  future of ai at meta, facebook, instagram, and...      0     1"
      ]
     },
     "execution_count": 9,
     "metadata": {},
     "output_type": "execute_result"
    }
   ],
   "source": [
    "df_FP"
   ]
  },
  {
   "cell_type": "code",
   "execution_count": 10,
   "id": "00524f1f",
   "metadata": {},
   "outputs": [
    {
     "data": {
      "text/html": [
       "<div>\n",
       "<style scoped>\n",
       "    .dataframe tbody tr th:only-of-type {\n",
       "        vertical-align: middle;\n",
       "    }\n",
       "\n",
       "    .dataframe tbody tr th {\n",
       "        vertical-align: top;\n",
       "    }\n",
       "\n",
       "    .dataframe thead th {\n",
       "        text-align: right;\n",
       "    }\n",
       "</style>\n",
       "<table border=\"1\" class=\"dataframe\">\n",
       "  <thead>\n",
       "    <tr style=\"text-align: right;\">\n",
       "      <th></th>\n",
       "      <th>id</th>\n",
       "      <th>title</th>\n",
       "      <th>label</th>\n",
       "      <th>pred</th>\n",
       "    </tr>\n",
       "  </thead>\n",
       "  <tbody>\n",
       "    <tr>\n",
       "      <th>414</th>\n",
       "      <td>83336465</td>\n",
       "      <td>tensorflow</td>\n",
       "      <td>1</td>\n",
       "      <td>0</td>\n",
       "    </tr>\n",
       "    <tr>\n",
       "      <th>365</th>\n",
       "      <td>55022371</td>\n",
       "      <td>predicates, invariants, and the essence of int...</td>\n",
       "      <td>1</td>\n",
       "      <td>0</td>\n",
       "    </tr>\n",
       "    <tr>\n",
       "      <th>435</th>\n",
       "      <td>29919502</td>\n",
       "      <td>life 3.0</td>\n",
       "      <td>1</td>\n",
       "      <td>0</td>\n",
       "    </tr>\n",
       "    <tr>\n",
       "      <th>213</th>\n",
       "      <td>81399321</td>\n",
       "      <td>numpy, scipy, and anaconda</td>\n",
       "      <td>1</td>\n",
       "      <td>0</td>\n",
       "    </tr>\n",
       "    <tr>\n",
       "      <th>179</th>\n",
       "      <td>63151353</td>\n",
       "      <td>dark matter of intelligence</td>\n",
       "      <td>1</td>\n",
       "      <td>0</td>\n",
       "    </tr>\n",
       "    <tr>\n",
       "      <th>423</th>\n",
       "      <td>39403956</td>\n",
       "      <td>brains, minds, and machines</td>\n",
       "      <td>1</td>\n",
       "      <td>0</td>\n",
       "    </tr>\n",
       "    <tr>\n",
       "      <th>215</th>\n",
       "      <td>19441744</td>\n",
       "      <td>neural networks and the emergence of cognition</td>\n",
       "      <td>1</td>\n",
       "      <td>0</td>\n",
       "    </tr>\n",
       "  </tbody>\n",
       "</table>\n",
       "</div>"
      ],
      "text/plain": [
       "           id                                              title  label  pred\n",
       "414  83336465                                         tensorflow      1     0\n",
       "365  55022371  predicates, invariants, and the essence of int...      1     0\n",
       "435  29919502                                           life 3.0      1     0\n",
       "213  81399321                         numpy, scipy, and anaconda      1     0\n",
       "179  63151353                        dark matter of intelligence      1     0\n",
       "423  39403956                        brains, minds, and machines      1     0\n",
       "215  19441744     neural networks and the emergence of cognition      1     0"
      ]
     },
     "execution_count": 10,
     "metadata": {},
     "output_type": "execute_result"
    }
   ],
   "source": [
    "df_FN"
   ]
  },
  {
   "cell_type": "markdown",
   "id": "b140f6c6",
   "metadata": {},
   "source": [
    "Display of results."
   ]
  },
  {
   "cell_type": "code",
   "execution_count": 21,
   "id": "00ac61f2",
   "metadata": {},
   "outputs": [
    {
     "name": "stdout",
     "output_type": "stream",
     "text": [
      "Survival, Hunting, Siberia, God, and Winning Alone Season 6\n",
      "to_pass\n",
      "\n",
      "Politics, Family, Real Estate, Fashion, Music, and Life\n",
      "to_pass\n",
      "\n",
      "Focus, Controversy, Politics, and Relationships\n",
      "to_pass\n",
      "\n",
      "Perplexity CEO on Future of AI, Search & the Internet\n",
      "to_summarize\n",
      "\n",
      "Physics of Life, Time, Complexity, and Aliens\n",
      "to_pass\n",
      "\n"
     ]
    }
   ],
   "source": [
    "path_model = os.path.join(PATH_MODEL, MODEL)\n",
    "loaded_model = DistilBertForSequenceClassification.from_pretrained(path_model, low_cpu_mem_usage=True)\n",
    "\n",
    "for title in titles[:5]:\n",
    "\n",
    "    inputs = tokenize_title(title, tokenizer)\n",
    "    outputs = loaded_model(**inputs) \n",
    "    logits = outputs.logits\n",
    "    probabilities = torch.nn.functional.softmax(logits, dim=1)\n",
    "    predicted_class = torch.argmax(probabilities, dim=1).item()\n",
    "\n",
    "    label = LABELS[predicted_class]\n",
    "\n",
    "    print(f'{title}\\n{label}\\n')"
   ]
  }
 ],
 "metadata": {
  "kernelspec": {
   "display_name": "lexscraper",
   "language": "python",
   "name": "python3"
  },
  "language_info": {
   "codemirror_mode": {
    "name": "ipython",
    "version": 3
   },
   "file_extension": ".py",
   "mimetype": "text/x-python",
   "name": "python",
   "nbconvert_exporter": "python",
   "pygments_lexer": "ipython3",
   "version": "3.12.4"
  }
 },
 "nbformat": 4,
 "nbformat_minor": 5
}
